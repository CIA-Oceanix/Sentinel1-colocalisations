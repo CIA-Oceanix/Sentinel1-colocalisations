{
 "cells": [
  {
   "cell_type": "code",
   "execution_count": 1,
   "id": "24d95f19",
   "metadata": {},
   "outputs": [],
   "source": [
    "import shutup; shutup.please()"
   ]
  },
  {
   "cell_type": "code",
   "execution_count": 2,
   "id": "394bf121",
   "metadata": {
    "tags": []
   },
   "outputs": [],
   "source": [
    "from datetime import datetime, timedelta \n",
    "from matplotlib.patches import Polygon\n",
    "from matplotlib.colors import LinearSegmentedColormap\n",
    "\n",
    "import matplotlib\n",
    "import matplotlib.pyplot as plt\n",
    "import numpy as np\n",
    "import os\n",
    "import PIL.Image\n",
    "import sys\n",
    "import fire\n",
    "from netCDF4 import Dataset\n",
    "import shutil\n",
    "\n",
    "from scipy.interpolate import griddata\n",
    "\n",
    "shutil.rmtree('.temp', ignore_errors=True)\n",
    "os.makedirs('.temp', exist_ok=True)\n",
    "os.makedirs('outputs', exist_ok=True)\n",
    "\n",
    "matplotlib.use('agg')"
   ]
  },
  {
   "cell_type": "code",
   "execution_count": 42,
   "id": "56d5d251-2ac9-4d59-ae9f-7de101449cf8",
   "metadata": {},
   "outputs": [],
   "source": [
    "from utils import get_distance, dms2dd, grid_from_polygon, getter_polygon_from_key, ini_map, png_to_gif\n",
    "from utils import log_print, r_print, get_iw_latlon, plot_polygon\n",
    "from requests_utils import routing, download_file\n",
    "\n",
    "from goes_utils import get_goes_hour_urls, get_close_urls, increased_grid\n",
    "from cpt import loadCPT"
   ]
  },
  {
   "cell_type": "code",
   "execution_count": 4,
   "id": "b1114af2-854c-4635-b1e8-74a2b8f92a49",
   "metadata": {},
   "outputs": [],
   "source": [
    "key = \"20210913t092920\"\n",
    "delta_minutes=90\n",
    "verbose=1\n",
    "shape=None\n",
    "metadata_filename=None"
   ]
  },
  {
   "cell_type": "code",
   "execution_count": 5,
   "id": "973432b6-ca6a-4415-a3ad-c6daad22cf03",
   "metadata": {},
   "outputs": [],
   "source": [
    "cpt_cmap = LinearSegmentedColormap('cpt', loadCPT('IR4AVHRR6.cpt'))"
   ]
  },
  {
   "cell_type": "code",
   "execution_count": 6,
   "id": "4b012ae4-be45-4bd4-941d-e95178fa824b",
   "metadata": {},
   "outputs": [
    {
     "name": "stdout",
     "output_type": "stream",
     "text": [
      "2022-11-13 00:23:32\tLoading IW metadata\n",
      "2022-11-13 00:23:32\tFirst IW: 20150101t222509\n",
      "2022-11-13 00:24:06\tLast IW:  20211231t010659\n"
     ]
    }
   ],
   "source": [
    "\n",
    "if verbose: log_print(\"Loading IW metadata\")\n",
    "getter = getter_polygon_from_key()"
   ]
  },
  {
   "cell_type": "code",
   "execution_count": 7,
   "id": "2177b329",
   "metadata": {},
   "outputs": [],
   "source": [
    "key = key.lower()\n",
    "iw_datetime = datetime.strptime(key, '%Y%m%dt%H%M%S')\n",
    "iw_filename, polygon, orbit = getter(key)"
   ]
  },
  {
   "cell_type": "code",
   "execution_count": 8,
   "id": "1fbc42cb-7241-41df-9ed8-ecb453fd1d85",
   "metadata": {},
   "outputs": [],
   "source": [
    "from xml.etree import ElementTree\n",
    "\n",
    "from urllib import request"
   ]
  },
  {
   "cell_type": "code",
   "execution_count": 9,
   "id": "1e44415c-4eca-4550-85fc-2c7f17310d68",
   "metadata": {},
   "outputs": [
    {
     "name": "stdout",
     "output_type": "stream",
     "text": [
      "2022-11-13 00:24:06\tRetrieving urls\n",
      "{'himawari8': ['https://noaa-himawari8.s3.amazonaws.com/?prefix=AHI-L2-FLDK-ISatSS/2021/09/13/0900', 'https://noaa-himawari8.s3.amazonaws.com/?prefix=AHI-L2-FLDK-ISatSS/2021/09/13/0910', 'https://noaa-himawari8.s3.amazonaws.com/?prefix=AHI-L2-FLDK-ISatSS/2021/09/13/0920', 'https://noaa-himawari8.s3.amazonaws.com/?prefix=AHI-L2-FLDK-ISatSS/2021/09/13/0930', 'https://noaa-himawari8.s3.amazonaws.com/?prefix=AHI-L2-FLDK-ISatSS/2021/09/13/0940'], 'himawari9': ['https://noaa-himawari9.s3.amazonaws.com/?prefix=AHI-L2-FLDK-ISatSS/2021/09/13/0900', 'https://noaa-himawari9.s3.amazonaws.com/?prefix=AHI-L2-FLDK-ISatSS/2021/09/13/0910', 'https://noaa-himawari9.s3.amazonaws.com/?prefix=AHI-L2-FLDK-ISatSS/2021/09/13/0920', 'https://noaa-himawari9.s3.amazonaws.com/?prefix=AHI-L2-FLDK-ISatSS/2021/09/13/0930', 'https://noaa-himawari9.s3.amazonaws.com/?prefix=AHI-L2-FLDK-ISatSS/2021/09/13/0940']}\n"
     ]
    }
   ],
   "source": [
    "SATELLITES = ('himawari8', 'himawari9')\n",
    "CHANNELS = (\"C13\", \"C14\")\n",
    "def list_bucket_urls(iw_datetime, delta_minutes=delta_minutes, verbose=1):\n",
    "    if verbose: log_print(f'Retrieving urls')\n",
    "\n",
    "    ts = [iw_datetime + timedelta(minutes=x) for x in range(-delta_minutes, delta_minutes+1, 10)]\n",
    "    \n",
    "    urls = {}\n",
    "    for satellite in SATELLITES:\n",
    "        url_basis = f\"https://noaa-{satellite}.s3.amazonaws.com/?prefix=AHI-L2-FLDK-ISatSS\"\n",
    "        for t in ts:\n",
    "            url = url_basis + f\"/{t.year}/{t.strftime('%m')}/{t.day}/{t.hour:02}{int(t.minute/10)}0\"\n",
    "            urls[satellite] = urls.get(satellite, []) + [url] \n",
    "    return urls\n",
    "\n",
    "\n",
    "bucket_urls = list_bucket_urls(iw_datetime, delta_minutes=20)\n",
    "print(bucket_urls)"
   ]
  },
  {
   "cell_type": "code",
   "execution_count": 10,
   "id": "d9143279-8363-4a7f-b2a7-7747773045ca",
   "metadata": {},
   "outputs": [],
   "source": [
    "\n",
    "def bucket_url_to_file_url(iw_datetime, bucket_urls):\n",
    "    closest_url_index = {}\n",
    "    file_per_satellite = [0 for satellite in SATELLITES]\n",
    "    \n",
    "    smallest_timedelta = {}\n",
    "    \n",
    "    file_urls = {}\n",
    "    for i_satellite, (satellite, urls) in enumerate(bucket_urls.items()):\n",
    "        file_urls[satellite] = [[[] for url in urls] for channel in CHANNELS]\n",
    "        for i_url, url in enumerate(urls):\n",
    "\n",
    "            for i_channel, channel in enumerate(CHANNELS):\n",
    "                req = request.urlopen(url + \"/OR_HFD-020-B12-M1\" + channel)\n",
    "                tree = ElementTree.parse(req)\n",
    "                for elem in tree.iter():\n",
    "                    if elem.tag.endswith('Key'):\n",
    "                        elem = elem.text\n",
    "                        key_datetime = datetime.strptime(elem.split('_')[-2][1:-1], '%Y%j%H%M%S')\n",
    "                        current_timedelta = abs(key_datetime - iw_datetime)\n",
    "\n",
    "                        file_urls[satellite][i_channel][i_url].append(f\"https://noaa-{satellite}.s3.amazonaws.com/{elem}\")\n",
    "                        file_per_satellite[i_satellite] += 1\n",
    "                            \n",
    "                        if satellite not in smallest_timedelta or current_timedelta < smallest_timedelta[satellite]:\n",
    "                            closest_url_index[satellite] = i_url\n",
    "                            smallest_timedelta[satellite] = current_timedelta\n",
    "    \n",
    "    print(f\"{file_per_satellite=}\")\n",
    "    closest_satellite = SATELLITES[np.argmax(file_per_satellite)]\n",
    "    print(f\"{closest_satellite=}\")\n",
    "    print(closest_url_index)\n",
    "    \n",
    "    return closest_satellite, file_urls[closest_satellite], closest_url_index[closest_satellite]"
   ]
  },
  {
   "cell_type": "code",
   "execution_count": 11,
   "id": "63e58a29-40ff-426b-9922-e7a5133f97d4",
   "metadata": {},
   "outputs": [
    {
     "name": "stdout",
     "output_type": "stream",
     "text": [
      "file_per_satellite=[880, 0]\n",
      "closest_satellite='himawari8'\n",
      "{'himawari8': 3}\n",
      "closest_url_index=3\n"
     ]
    }
   ],
   "source": [
    "closest_satellite, file_urls, closest_url_index = bucket_url_to_file_url(iw_datetime, bucket_urls)\n",
    "print(f\"{closest_url_index=}\")\n"
   ]
  },
  {
   "cell_type": "code",
   "execution_count": null,
   "id": "ce575110-04d4-42c0-9509-702b8cfdfa4b",
   "metadata": {},
   "outputs": [],
   "source": []
  },
  {
   "cell_type": "code",
   "execution_count": 12,
   "id": "17752504-f7a3-4ffa-a31e-bca3e2baffb8",
   "metadata": {},
   "outputs": [
    {
     "name": "stdout",
     "output_type": "stream",
     "text": [
      "2022-11-13 00:24:16\tDownloading 176/176\n"
     ]
    }
   ],
   "source": [
    "routing_args = [\n",
    "    (url, f\".temp/{channel}/{closest_url_index}\") \n",
    "    for (i_channel, channel) in enumerate(CHANNELS) \n",
    "    for url in file_urls[i_channel][closest_url_index]\n",
    "]\n",
    "\n",
    "routing(routing_args)"
   ]
  },
  {
   "cell_type": "code",
   "execution_count": 23,
   "id": "dd8866b7-82ad-431e-81f7-bdb13c646708",
   "metadata": {},
   "outputs": [],
   "source": [
    "def latlon_from_goes_dataset(x_coordinate_1d, y_coordinate_1d, projection_info):\n",
    "    x_coordinate_1d = x_coordinate_1d / 10**6\n",
    "    y_coordinate_1d = y_coordinate_1d / 10**6\n",
    "\n",
    "    lon_origin = projection_info.longitude_of_projection_origin\n",
    "    H = projection_info.perspective_point_height+projection_info.semi_major\n",
    "    r_eq = projection_info.semi_major\n",
    "    r_pol = projection_info.semi_minor\n",
    "\n",
    "    x_coordinate_2d, y_coordinate_2d = np.meshgrid(x_coordinate_1d, y_coordinate_1d)\n",
    "\n",
    "    lambda_0 = (lon_origin*np.pi)/180.0  \n",
    "    a_var = np.power(np.sin(x_coordinate_2d),2.0) + (np.power(np.cos(x_coordinate_2d),2.0)*(np.power(np.cos(y_coordinate_2d),2.0)+(((r_eq*r_eq)/(r_pol*r_pol))*np.power(np.sin(y_coordinate_2d),2.0))))\n",
    "    b_var = -2.0*H*np.cos(x_coordinate_2d)*np.cos(y_coordinate_2d)\n",
    "    c_var = (H**2.0)-(r_eq**2.0)\n",
    "    r_s = (-1.0*b_var - np.sqrt((b_var**2)-(4.0*a_var*c_var)))/(2.0*a_var)\n",
    "    s_x = r_s*np.cos(x_coordinate_2d)*np.cos(y_coordinate_2d)\n",
    "    s_y = - r_s*np.sin(x_coordinate_2d)\n",
    "    s_z = r_s*np.cos(x_coordinate_2d)*np.sin(y_coordinate_2d)\n",
    "\n",
    "    abi_lat = (180.0/np.pi)*(np.arctan(((r_eq*r_eq)/(r_pol*r_pol))*((s_z/np.sqrt(((H-s_x)*(H-s_x))+(s_y*s_y))))))\n",
    "    abi_lon = (lambda_0 - np.arctan(s_y/(H-s_x)))*(180.0/np.pi)\n",
    "    return abi_lat, abi_lon\n",
    "\n",
    "\n",
    "def get_abi_channels(folder, lat_min, lat_max, lon_min, lon_max):\n",
    "    def arg2d(array, f=np.argmin):\n",
    "        return  np.unravel_index(f(array), array.shape)\n",
    "        \n",
    "    filenames = [\n",
    "        os.path.join(folder, filename)\n",
    "        for filename in os.listdir(folder)\n",
    "        if filename.endswith('.nc')\n",
    "    ]\n",
    "\n",
    "    n = 550\n",
    "    array = np.zeros((10*n,10*n,3))\n",
    "    for i, filename in enumerate(filenames):\n",
    "        with Dataset(filename) as dataset:\n",
    "            lat, lon = latlon_from_goes_dataset(dataset['x'][:], dataset['y'][:], dataset['fixedgrid_projection'])\n",
    "            data = dataset['Sectorized_CMI'][:]\n",
    "\n",
    "        cell_pad = 0\n",
    "        if i >= 0: cell_pad += 2\n",
    "        if i >= 6: cell_pad += 3\n",
    "        if i >= 14: cell_pad += 1\n",
    "        if i >= 74: cell_pad += 1\n",
    "        if i >= 82: cell_pad += 3\n",
    "\n",
    "        y = (i+cell_pad)%10\n",
    "        x = (i+cell_pad)//10\n",
    "        \n",
    "        array[n*x:n*(x+1), n*y:n*(y+1), 0] = lat\n",
    "        array[n*x:n*(x+1), n*y:n*(y+1), 1] = lon\n",
    "        array[n*x:n*(x+1), n*y:n*(y+1), 2] = data\n",
    "        \n",
    "    x1, y1 = arg2d(get_distance(array[:,:,0], array[:,:,1], lat_max, lon_max))\n",
    "    x2, y2 = arg2d(get_distance(array[:,:,0], array[:,:,1], lat_min, lon_min))\n",
    "    x1, x2 = min(x1, x2), max(x1, x2)\n",
    "    y1, y2 = min(y1, y2), max(y1, y2)\n",
    "\n",
    "    lats = array[x1:x2,y1:y2,0]\n",
    "    lons = array[x1:x2,y1:y2,1]\n",
    "    data = array[x1:x2,y1:y2,2]\n",
    "        \n",
    "        \n",
    "    return data, lats, lons"
   ]
  },
  {
   "cell_type": "code",
   "execution_count": 24,
   "id": "71e094aa-2ee9-4c9e-8508-0e39e551a646",
   "metadata": {},
   "outputs": [],
   "source": [
    "def project_abi_on_iw_lat_lon(channel, folder, shape):\n",
    "    data, lats, lons = get_abi_channels(folder, owiLat.min(), owiLat.max(), owiLon.min(), owiLon.max())\n",
    "\n",
    "    new_data = griddata(\n",
    "        np.stack((lats.flatten(), lons.flatten()), axis=1),\n",
    "        data.flatten(),\n",
    "        np.stack((owiLat.flatten(), owiLon.flatten()), axis=1)\n",
    "    ).reshape(shape).astype('float')\n",
    "\n",
    "    np.savez_compressed(f'outputs/{key}/{key}_{channel}.npz', new_data)\n",
    "\n",
    "    new_data = np.clip((new_data-170)/208, 0, 1)\n",
    "    new_data = cpt_cmap(new_data)\n",
    "    new_data = (new_data * 255).astype(np.uint8)\n",
    "\n",
    "    new_filename = f'outputs/{key}/{key}_{channel}.png'\n",
    "    PIL.Image.fromarray(new_data).save(new_filename)"
   ]
  },
  {
   "cell_type": "code",
   "execution_count": 25,
   "id": "74c2e135-b1ca-4dde-8a3d-1f5663090576",
   "metadata": {},
   "outputs": [
    {
     "name": "stdout",
     "output_type": "stream",
     "text": [
      "2022-11-13 00:26:41\tUnable to generate the reprojection. Missing either metadata or shape. Deduce from latlon at 200 m/px.\n",
      "2022-11-13 00:26:41\tDeduced shape: (868, 1260)\n"
     ]
    },
    {
     "name": "stderr",
     "output_type": "stream",
     "text": [
      "C:\\Users\\Rignak\\AppData\\Local\\Temp\\ipykernel_7196\\1730597156.py:16: RuntimeWarning: invalid value encountered in sqrt\n",
      "  r_s = (-1.0*b_var - np.sqrt((b_var**2)-(4.0*a_var*c_var)))/(2.0*a_var)\n",
      "C:\\Users\\Rignak\\AppData\\Local\\Temp\\ipykernel_7196\\1730597156.py:21: RuntimeWarning: invalid value encountered in sqrt\n",
      "  abi_lat = (180.0/np.pi)*(np.arctan(((r_eq*r_eq)/(r_pol*r_pol))*((s_z/np.sqrt(((H-s_x)*(H-s_x))+(s_y*s_y))))))\n"
     ]
    }
   ],
   "source": [
    "os.makedirs('outputs/' + key, exist_ok=True)\n",
    "owiLat, owiLon = get_iw_latlon(polygon=polygon, metadata_filename=metadata_filename, shape=shape)\n",
    "for (i_channel, channel) in enumerate(CHANNELS):\n",
    "  \n",
    "    folder = f\".temp/{channel}/{closest_url_index}\"\n",
    "    project_abi_on_iw_lat_lon(channel, folder, owiLat.shape)"
   ]
  },
  {
   "cell_type": "code",
   "execution_count": 34,
   "id": "ae107cd3-4d57-408f-b328-99fb111a48ed",
   "metadata": {},
   "outputs": [
    {
     "name": "stdout",
     "output_type": "stream",
     "text": [
      "2022-11-13 00:33:22\tDownloading 880/880\n"
     ]
    }
   ],
   "source": [
    "routing_args = [\n",
    "    (url, f\".temp/{channel}/{i_urls}\") \n",
    "    for (i_channel, channel) in enumerate(CHANNELS) \n",
    "    for i_urls, urls in enumerate(file_urls[i_channel])\n",
    "    for url in urls\n",
    "]\n",
    "\n",
    "routing(routing_args)"
   ]
  },
  {
   "cell_type": "code",
   "execution_count": 35,
   "id": "0fcad066-7b6a-4b23-9330-ec7c79fbd073",
   "metadata": {},
   "outputs": [
    {
     "name": "stdout",
     "output_type": "stream",
     "text": [
      "lat_grid.shape=(538, 728)\n"
     ]
    }
   ],
   "source": [
    "lat_grid, lon_grid = increased_grid(polygon, km_per_pixel=2, delta_factor=2)\n",
    "print(f'{lat_grid.shape=}')\n"
   ]
  },
  {
   "cell_type": "code",
   "execution_count": 44,
   "id": "414b8623-febc-43e5-9548-710f04227faf",
   "metadata": {},
   "outputs": [],
   "source": [
    "def abi_nc_to_png(channel, folder, lat_grid, lon_grid, m=None, polygon=None):\n",
    "    filename = os.listdir(folder)[0]\n",
    "    suptitle = datetime.strptime(filename.split('_')[-2][1:-1], '%Y%j%H%M%S').strftime('%Y-%m-%d %H:%M:%S')\n",
    "\n",
    "    if m is None:\n",
    "        plt.figure(figsize=(12,12))\n",
    "        m = ini_map(lat_grid, lon_grid)\n",
    "\n",
    "    new_filenames = {}\n",
    "    \n",
    "    data, lats, lons = get_abi_channels(folder, lat_grid.min(), lat_grid.max(), lon_grid.min(), lon_grid.max())\n",
    "\n",
    "    colormesh = m.pcolormesh(lons, lats, data, latlon=True, cmap=cpt_cmap, vmin=170, vmax=378, shading='auto')\n",
    "    colorbar = plt.colorbar(fraction=0.046, pad=0.04, orientation='horizontal')\n",
    "\n",
    "    plot_polygon(polygon, m)\n",
    "\n",
    "    plt.suptitle(suptitle)\n",
    "    plt.title(channel)\n",
    "    plt.tight_layout()\n",
    "\n",
    "    new_filename = os.path.join(folder, filename + f\".{channel}.png\")\n",
    "    plt.savefig(new_filename)\n",
    "\n",
    "    colorbar.remove()\n",
    "    colormesh.remove()\n",
    "\n",
    "    return new_filename, m"
   ]
  },
  {
   "cell_type": "code",
   "execution_count": 45,
   "id": "94f235b3-094b-4f26-a50f-c9671212d9d9",
   "metadata": {},
   "outputs": [
    {
     "name": "stderr",
     "output_type": "stream",
     "text": [
      "C:\\Users\\Rignak\\AppData\\Local\\Temp\\ipykernel_7196\\1730597156.py:16: RuntimeWarning: invalid value encountered in sqrt\n",
      "  r_s = (-1.0*b_var - np.sqrt((b_var**2)-(4.0*a_var*c_var)))/(2.0*a_var)\n",
      "C:\\Users\\Rignak\\AppData\\Local\\Temp\\ipykernel_7196\\1730597156.py:21: RuntimeWarning: invalid value encountered in sqrt\n",
      "  abi_lat = (180.0/np.pi)*(np.arctan(((r_eq*r_eq)/(r_pol*r_pol))*((s_z/np.sqrt(((H-s_x)*(H-s_x))+(s_y*s_y))))))\n",
      "C:\\Users\\Rignak\\AppData\\Local\\Temp\\ipykernel_7196\\1730597156.py:16: RuntimeWarning: invalid value encountered in sqrt\n",
      "  r_s = (-1.0*b_var - np.sqrt((b_var**2)-(4.0*a_var*c_var)))/(2.0*a_var)\n",
      "C:\\Users\\Rignak\\AppData\\Local\\Temp\\ipykernel_7196\\1730597156.py:21: RuntimeWarning: invalid value encountered in sqrt\n",
      "  abi_lat = (180.0/np.pi)*(np.arctan(((r_eq*r_eq)/(r_pol*r_pol))*((s_z/np.sqrt(((H-s_x)*(H-s_x))+(s_y*s_y))))))\n",
      "C:\\Users\\Rignak\\AppData\\Local\\Temp\\ipykernel_7196\\1730597156.py:16: RuntimeWarning: invalid value encountered in sqrt\n",
      "  r_s = (-1.0*b_var - np.sqrt((b_var**2)-(4.0*a_var*c_var)))/(2.0*a_var)\n",
      "C:\\Users\\Rignak\\AppData\\Local\\Temp\\ipykernel_7196\\1730597156.py:21: RuntimeWarning: invalid value encountered in sqrt\n",
      "  abi_lat = (180.0/np.pi)*(np.arctan(((r_eq*r_eq)/(r_pol*r_pol))*((s_z/np.sqrt(((H-s_x)*(H-s_x))+(s_y*s_y))))))\n",
      "C:\\Users\\Rignak\\AppData\\Local\\Temp\\ipykernel_7196\\1730597156.py:16: RuntimeWarning: invalid value encountered in sqrt\n",
      "  r_s = (-1.0*b_var - np.sqrt((b_var**2)-(4.0*a_var*c_var)))/(2.0*a_var)\n",
      "C:\\Users\\Rignak\\AppData\\Local\\Temp\\ipykernel_7196\\1730597156.py:21: RuntimeWarning: invalid value encountered in sqrt\n",
      "  abi_lat = (180.0/np.pi)*(np.arctan(((r_eq*r_eq)/(r_pol*r_pol))*((s_z/np.sqrt(((H-s_x)*(H-s_x))+(s_y*s_y))))))\n",
      "C:\\Users\\Rignak\\AppData\\Local\\Temp\\ipykernel_7196\\1730597156.py:16: RuntimeWarning: invalid value encountered in sqrt\n",
      "  r_s = (-1.0*b_var - np.sqrt((b_var**2)-(4.0*a_var*c_var)))/(2.0*a_var)\n",
      "C:\\Users\\Rignak\\AppData\\Local\\Temp\\ipykernel_7196\\1730597156.py:21: RuntimeWarning: invalid value encountered in sqrt\n",
      "  abi_lat = (180.0/np.pi)*(np.arctan(((r_eq*r_eq)/(r_pol*r_pol))*((s_z/np.sqrt(((H-s_x)*(H-s_x))+(s_y*s_y))))))\n",
      "C:\\Users\\Rignak\\AppData\\Local\\Temp\\ipykernel_7196\\1730597156.py:16: RuntimeWarning: invalid value encountered in sqrt\n",
      "  r_s = (-1.0*b_var - np.sqrt((b_var**2)-(4.0*a_var*c_var)))/(2.0*a_var)\n",
      "C:\\Users\\Rignak\\AppData\\Local\\Temp\\ipykernel_7196\\1730597156.py:21: RuntimeWarning: invalid value encountered in sqrt\n",
      "  abi_lat = (180.0/np.pi)*(np.arctan(((r_eq*r_eq)/(r_pol*r_pol))*((s_z/np.sqrt(((H-s_x)*(H-s_x))+(s_y*s_y))))))\n",
      "C:\\Users\\Rignak\\AppData\\Local\\Temp\\ipykernel_7196\\1730597156.py:16: RuntimeWarning: invalid value encountered in sqrt\n",
      "  r_s = (-1.0*b_var - np.sqrt((b_var**2)-(4.0*a_var*c_var)))/(2.0*a_var)\n",
      "C:\\Users\\Rignak\\AppData\\Local\\Temp\\ipykernel_7196\\1730597156.py:21: RuntimeWarning: invalid value encountered in sqrt\n",
      "  abi_lat = (180.0/np.pi)*(np.arctan(((r_eq*r_eq)/(r_pol*r_pol))*((s_z/np.sqrt(((H-s_x)*(H-s_x))+(s_y*s_y))))))\n",
      "C:\\Users\\Rignak\\AppData\\Local\\Temp\\ipykernel_7196\\1730597156.py:16: RuntimeWarning: invalid value encountered in sqrt\n",
      "  r_s = (-1.0*b_var - np.sqrt((b_var**2)-(4.0*a_var*c_var)))/(2.0*a_var)\n",
      "C:\\Users\\Rignak\\AppData\\Local\\Temp\\ipykernel_7196\\1730597156.py:21: RuntimeWarning: invalid value encountered in sqrt\n",
      "  abi_lat = (180.0/np.pi)*(np.arctan(((r_eq*r_eq)/(r_pol*r_pol))*((s_z/np.sqrt(((H-s_x)*(H-s_x))+(s_y*s_y))))))\n",
      "C:\\Users\\Rignak\\AppData\\Local\\Temp\\ipykernel_7196\\1730597156.py:16: RuntimeWarning: invalid value encountered in sqrt\n",
      "  r_s = (-1.0*b_var - np.sqrt((b_var**2)-(4.0*a_var*c_var)))/(2.0*a_var)\n",
      "C:\\Users\\Rignak\\AppData\\Local\\Temp\\ipykernel_7196\\1730597156.py:21: RuntimeWarning: invalid value encountered in sqrt\n",
      "  abi_lat = (180.0/np.pi)*(np.arctan(((r_eq*r_eq)/(r_pol*r_pol))*((s_z/np.sqrt(((H-s_x)*(H-s_x))+(s_y*s_y))))))\n",
      "C:\\Users\\Rignak\\AppData\\Local\\Temp\\ipykernel_7196\\1730597156.py:16: RuntimeWarning: invalid value encountered in sqrt\n",
      "  r_s = (-1.0*b_var - np.sqrt((b_var**2)-(4.0*a_var*c_var)))/(2.0*a_var)\n",
      "C:\\Users\\Rignak\\AppData\\Local\\Temp\\ipykernel_7196\\1730597156.py:21: RuntimeWarning: invalid value encountered in sqrt\n",
      "  abi_lat = (180.0/np.pi)*(np.arctan(((r_eq*r_eq)/(r_pol*r_pol))*((s_z/np.sqrt(((H-s_x)*(H-s_x))+(s_y*s_y))))))\n"
     ]
    }
   ],
   "source": [
    "m = None\n",
    "\n",
    "for (i_channel, channel) in enumerate(CHANNELS):\n",
    "    png_filenames = []\n",
    "    for url_index in range(len(file_urls[i_channel])):\n",
    "        folder = f\".temp/{channel}/{url_index}\"\n",
    "        png_filename, m = abi_nc_to_png(channel, folder,  lat_grid, lon_grid, polygon=polygon, m=m)\n",
    "        png_filenames.append(png_filename)\n",
    "        \n",
    "    png_to_gif(png_filenames, f'outputs/{key}/{key}_{channel}.gif')\n",
    "    "
   ]
  },
  {
   "cell_type": "code",
   "execution_count": null,
   "id": "d5843940-cb79-4c8a-a7d7-fab20cc23976",
   "metadata": {},
   "outputs": [],
   "source": []
  }
 ],
 "metadata": {
  "kernelspec": {
   "display_name": "Python 3 (ipykernel)",
   "language": "python",
   "name": "python3"
  },
  "language_info": {
   "codemirror_mode": {
    "name": "ipython",
    "version": 3
   },
   "file_extension": ".py",
   "mimetype": "text/x-python",
   "name": "python",
   "nbconvert_exporter": "python",
   "pygments_lexer": "ipython3",
   "version": "3.9.7"
  }
 },
 "nbformat": 4,
 "nbformat_minor": 5
}
